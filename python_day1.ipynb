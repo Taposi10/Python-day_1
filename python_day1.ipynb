{
 "cells": [
  {
   "cell_type": "code",
   "execution_count": 4,
   "id": "c8d1edfb-b9e9-4276-af14-52ddb1544a46",
   "metadata": {},
   "outputs": [
    {
     "name": "stdout",
     "output_type": "stream",
     "text": [
      "The sum is:  35\n",
      "The subtraction is:  25\n",
      "The divide is:  6.0\n",
      "The multiplication is:  150\n",
      "The modulus is:  0\n",
      "The floor is:  6\n"
     ]
    }
   ],
   "source": [
    "#creating a calculator\n",
    "\n",
    "def calculator(a,b):\n",
    "    print('The sum is: ', a+b)\n",
    "    print('The subtraction is: ', a-b)\n",
    "    print('The divide is: ', a/b)\n",
    "    print('The multiplication is: ', a*b)\n",
    "    print('The modulus is: ', a%b)\n",
    "    print('The floor is: ', a//b)\n",
    "calculator(a=30,b=5)\n",
    "    "
   ]
  },
  {
   "cell_type": "code",
   "execution_count": 8,
   "id": "524454d8-5e8e-4b7f-b7b6-a684ba81faad",
   "metadata": {},
   "outputs": [
    {
     "name": "stdin",
     "output_type": "stream",
     "text": [
      "Enter the first number:  30\n",
      "Enter the second number:  4\n"
     ]
    },
    {
     "name": "stdout",
     "output_type": "stream",
     "text": [
      "The sum is:  34\n",
      "The subtraction is:  26\n",
      "The divide is:  7.5\n",
      "The multiplication is:  120\n",
      "The modulus is:  2\n",
      "The floor is:  7\n"
     ]
    }
   ],
   "source": [
    "a=int(input('Enter the first number: '))\n",
    "b=int(input('Enter the second number: '))\n",
    "print('The sum is: ',a+b)\n",
    "print('The subtraction is: ', a-b)\n",
    "print('The divide is: ', a/b)\n",
    "print('The multiplication is: ', a*b)\n",
    "print('The modulus is: ', a%b)\n",
    "print('The floor is: ', a//b)"
   ]
  },
  {
   "cell_type": "code",
   "execution_count": 9,
   "id": "e76931fc-383c-4e3e-8902-6c094e2e521e",
   "metadata": {},
   "outputs": [
    {
     "name": "stdout",
     "output_type": "stream",
     "text": [
      "my name is \" Mst Taposi Rabeya\" Jyoti\n"
     ]
    }
   ],
   "source": [
    "name=\"my name is \\\" Mst Taposi Rabeya\\\" Jyoti\"\n",
    "print(name)"
   ]
  },
  {
   "cell_type": "code",
   "execution_count": 15,
   "id": "f027f7de-f259-478a-bf77-837ce7e5fadb",
   "metadata": {},
   "outputs": [
    {
     "name": "stdout",
     "output_type": "stream",
     "text": [
      "30\n",
      "!!!!!! MST TAPOSI RABEYA !!!!!\n",
      "!!!!!! mst taposi rabeya !!!!!\n",
      "!!!!!! Mst Taposi Rabeya \n",
      "!!!!!! Mst Taposi Tithi !!!!!\n",
      "Information system to be needed a sofrware engineer\n"
     ]
    }
   ],
   "source": [
    "data=\"!!!!!! Mst Taposi Rabeya !!!!!\"\n",
    "print(len(data))\n",
    "print(data.upper())\n",
    "print(data.lower())\n",
    "print(data.rstrip(\"!\"))\n",
    "print(data.replace(\"Rabeya\", \"Tithi\"))\n",
    "data_2=\"information System to BE needed a Sofrware engineer\"\n",
    "print(data_2.capitalize())\n",
    "\n"
   ]
  },
  {
   "cell_type": "code",
   "execution_count": 2,
   "id": "e497a409-054b-441d-8c22-195bcfafdcce",
   "metadata": {},
   "outputs": [],
   "source": [
    "##03/02/2024"
   ]
  },
  {
   "cell_type": "code",
   "execution_count": 6,
   "id": "0568ca8d-efd7-4bc7-b65e-ae08c775df5a",
   "metadata": {},
   "outputs": [
    {
     "name": "stdout",
     "output_type": "stream",
     "text": [
      "Hello! This is 'Taposi Rabeya Jyoti'\n",
      "Hi! This is the place \"Chuadanga\" where I was born\n",
      " I am not satisfied with my \"Coding Skill\" so, I learn more and more coding\n"
     ]
    }
   ],
   "source": [
    "#printing expression with escape sequence\n",
    "print(\"Hello! This is \\'Taposi Rabeya Jyoti\\'\")\n",
    "print(\"Hi! This is the place \\\"Chuadanga\\\" where I was born\")\n",
    "print(\"\"\"I am not satisfied with my \"Coding Skill\" so, I learn more and more coding\"\"\")"
   ]
  },
  {
   "cell_type": "code",
   "execution_count": 7,
   "id": "fdd354b1-8fe4-4723-b266-3f9b546f4dd8",
   "metadata": {},
   "outputs": [
    {
     "name": "stdin",
     "output_type": "stream",
     "text": [
      "Write your name Mst Taposi Rabeya\n"
     ]
    },
    {
     "name": "stdout",
     "output_type": "stream",
     "text": [
      "Mst Taposi Rabeya\n"
     ]
    }
   ],
   "source": [
    "#getting input from the user\n",
    "x=input(\"Write your name\")\n",
    "print(x)"
   ]
  },
  {
   "cell_type": "code",
   "execution_count": 9,
   "id": "1a1c63cf-0e14-4504-b7c3-fdbf3585e1d9",
   "metadata": {},
   "outputs": [
    {
     "name": "stdin",
     "output_type": "stream",
     "text": [
      "Enter first number:  3\n",
      "Enter second number:  5\n"
     ]
    },
    {
     "name": "stdout",
     "output_type": "stream",
     "text": [
      "35\n"
     ]
    }
   ],
   "source": [
    "#Input return always string\n",
    "value1=input('Enter first number: ')\n",
    "value2=input('Enter second number: ')\n",
    "add=value1+value2\n",
    "print(add)"
   ]
  },
  {
   "cell_type": "code",
   "execution_count": 10,
   "id": "47259fe6-0e82-4466-bc03-b08c6154b417",
   "metadata": {},
   "outputs": [
    {
     "name": "stdin",
     "output_type": "stream",
     "text": [
      "Enter first number:  3\n",
      "Enter second number:  5\n"
     ]
    },
    {
     "name": "stdout",
     "output_type": "stream",
     "text": [
      "8\n"
     ]
    }
   ],
   "source": [
    "#type casting, here convert string to value\n",
    "value1=int(input('Enter first number: '))\n",
    "value2=int(input('Enter second number: '))\n",
    "add=value1+value2\n",
    "print(add)"
   ]
  },
  {
   "cell_type": "code",
   "execution_count": 18,
   "id": "11ed3795-3ed5-4d97-bfa7-060979a107eb",
   "metadata": {},
   "outputs": [
    {
     "name": "stdin",
     "output_type": "stream",
     "text": [
      " 1 2 3 4 5\n"
     ]
    },
    {
     "name": "stdout",
     "output_type": "stream",
     "text": [
      "1 2 3 4 5\n",
      "<class 'str'>\n"
     ]
    }
   ],
   "source": [
    "#Getting multiple input from the user\n",
    "a,b,c,d,e=input().split()\n",
    "print(a,b,c,d,e)\n",
    "print(type(a))\n"
   ]
  },
  {
   "cell_type": "code",
   "execution_count": 20,
   "id": "143c3f73-a473-4319-bc61-82e3d0c5fbeb",
   "metadata": {},
   "outputs": [
    {
     "name": "stdout",
     "output_type": "stream",
     "text": [
      "(8+10j)\n"
     ]
    }
   ],
   "source": [
    "x=3+4j\n",
    "y=5+6j\n",
    "print(x+y)"
   ]
  },
  {
   "cell_type": "code",
   "execution_count": 31,
   "id": "90dec213-7813-4088-be2d-7dabc0e0052c",
   "metadata": {},
   "outputs": [
    {
     "name": "stdout",
     "output_type": "stream",
     "text": [
      "15\n"
     ]
    }
   ],
   "source": [
    "#defining a function\n",
    "def func(a,b):\n",
    "    c=a+b\n",
    "    print(c)\n",
    "def sqr(a):\n",
    "    return (a**2)\n",
    "func(5,10)\n",
    "sq=sqr(4)\n",
    "\n"
   ]
  },
  {
   "cell_type": "code",
   "execution_count": 33,
   "id": "4fe302e3-f83f-4e8f-8a9e-a11fbc9d6e9d",
   "metadata": {},
   "outputs": [
    {
     "name": "stdout",
     "output_type": "stream",
     "text": [
      "Hello ! world\n",
      "I am python\n",
      "Do you love me\n"
     ]
    }
   ],
   "source": [
    "def func():\n",
    "    print('I am python')#Secondly execute this line\n",
    "print(\"Hello ! world\")#first execute this line\n",
    "func()\n",
    "print('Do you love me')# third execute"
   ]
  },
  {
   "cell_type": "code",
   "execution_count": 1,
   "id": "b757da86-2722-4f02-b24a-e0acc46d025a",
   "metadata": {},
   "outputs": [
    {
     "name": "stdout",
     "output_type": "stream",
     "text": [
      "Access the global variable a:  10\n",
      "Access the global variable b:  21.34\n",
      "The value of a is : 20.26\n",
      "The value of b is : 43\n",
      "Access the global variable a:  10\n",
      "Access the local variable b:  20.26\n"
     ]
    }
   ],
   "source": [
    "#global and local variable\n",
    "a=10\n",
    "b=21.34\n",
    "def fun():\n",
    "    global b\n",
    "    print(\"Access the global variable a: \", a)\n",
    "    print(\"Access the global variable b: \", b)\n",
    "    b=20.26\n",
    "    c=43\n",
    "    print('The value of a is :',b)\n",
    "    print('The value of b is :',c)\n",
    "fun()\n",
    "print(\"Access the global variable a: \",a)\n",
    "print(\"Access the local variable b: \",b)\n",
    "    "
   ]
  },
  {
   "cell_type": "code",
   "execution_count": 42,
   "id": "1d37822d-284a-4f3b-94d6-bc9582fc2514",
   "metadata": {},
   "outputs": [
    {
     "name": "stdout",
     "output_type": "stream",
     "text": [
      "Access the global variable a:  10\n",
      "Access the global variable b:  21.34\n",
      "The value of b is : 20.26\n",
      "The value of c is : 43\n",
      "Access the global variable a:  10\n",
      "Access the modified global variable b:  20.26\n"
     ]
    }
   ],
   "source": [
    "a = 10\n",
    "b = 21.34\n",
    "\n",
    "def fun():\n",
    "    global b \n",
    "  # Declare b as global to modify it within the function\n",
    "    print(\"Access the global variable a: \", a)\n",
    "    print(\"Access the global variable b: \", b)\n",
    "    b = 20.26\n",
    "    c = 43\n",
    "    print('The value of b is :', b)\n",
    "    print('The value of c is :', c)\n",
    "\n",
    "fun()\n",
    "print(\"Access the global variable a: \", a)\n",
    "print(\"Access the modified global variable b: \", b)"
   ]
  },
  {
   "cell_type": "code",
   "execution_count": 2,
   "id": "0f0bb9d0-5d02-4205-a04b-a006b3d2a418",
   "metadata": {},
   "outputs": [
    {
     "name": "stdout",
     "output_type": "stream",
     "text": [
      "Hello, Alice!\n",
      "Hi, Bob!\n"
     ]
    }
   ],
   "source": [
    "def greet(name, message=\"Hello\"):\n",
    "    print(f\"{message}, {name}!\")\n",
    "\n",
    "greet(\"Alice\")  # Output: Hello, Alice!\n",
    "greet(\"Bob\", \"Hi\")  # Output: Hi, Bob!\n"
   ]
  },
  {
   "cell_type": "code",
   "execution_count": 5,
   "id": "93faa7cd-6933-4975-a995-23258baa564b",
   "metadata": {},
   "outputs": [
    {
     "name": "stdin",
     "output_type": "stream",
     "text": [
      "Enter a number:  7\n"
     ]
    },
    {
     "name": "stdout",
     "output_type": "stream",
     "text": [
      "7\n",
      "Factorial is:  5040\n"
     ]
    }
   ],
   "source": [
    "#factorial number in recursion\n",
    "def factorial(n):\n",
    "    if (n==0 or n==1):\n",
    "        return 1\n",
    "    else:\n",
    "        return n*factorial(n-1)\n",
    "n=int(input(\"Enter a number: \"))\n",
    "print(n)\n",
    "print(\"Factorial is: \",factorial(n))\n"
   ]
  },
  {
   "cell_type": "code",
   "execution_count": 9,
   "id": "9ee41d4e-e471-432e-8b96-475150f03633",
   "metadata": {},
   "outputs": [
    {
     "name": "stdout",
     "output_type": "stream",
     "text": [
      "0 1 1 2 3 5 8 13 21 34 \n"
     ]
    }
   ],
   "source": [
    "#fibonacci series in recursion\n",
    "n = 10\n",
    "num1 = 0\n",
    "num2 = 1\n",
    "next_number = num2  \n",
    "count = 1\n",
    " \n",
    "while count <= n:\n",
    "    print(num1, end=\" \")\n",
    "    count += 1\n",
    "    num1, num2 = num2, next_number\n",
    "    next_number = num1 + num2\n",
    "print()"
   ]
  },
  {
   "cell_type": "code",
   "execution_count": null,
   "id": "aabc37b7-f4cc-464d-ae26-ee846a55fe43",
   "metadata": {},
   "outputs": [],
   "source": []
  },
  {
   "cell_type": "code",
   "execution_count": 10,
   "id": "4fc25846-19ab-4ab1-a200-6b5d4c360904",
   "metadata": {},
   "outputs": [
    {
     "ename": "TypeError",
     "evalue": "cannot unpack non-iterable int object",
     "output_type": "error",
     "traceback": [
      "\u001b[1;31m---------------------------------------------------------------------------\u001b[0m",
      "\u001b[1;31mTypeError\u001b[0m                                 Traceback (most recent call last)",
      "Cell \u001b[1;32mIn[10], line 7\u001b[0m\n\u001b[0;32m      5\u001b[0m \u001b[38;5;28;01mfor\u001b[39;00m i \u001b[38;5;129;01min\u001b[39;00m \u001b[38;5;28mrange\u001b[39m(\u001b[38;5;241m10\u001b[39m):\n\u001b[0;32m      6\u001b[0m     count\u001b[38;5;241m+\u001b[39m\u001b[38;5;241m=\u001b[39m\u001b[38;5;241m1\u001b[39m\n\u001b[1;32m----> 7\u001b[0m     n1\u001b[38;5;241m=\u001b[39mn2, n2\u001b[38;5;241m=\u001b[39mn_num, n_num\u001b[38;5;241m=\u001b[39mn1\n\u001b[0;32m      8\u001b[0m     n_num\u001b[38;5;241m=\u001b[39mn1\u001b[38;5;241m+\u001b[39mn2\n\u001b[0;32m      9\u001b[0m \u001b[38;5;28mprint\u001b[39m(n1)\n",
      "\u001b[1;31mTypeError\u001b[0m: cannot unpack non-iterable int object"
     ]
    }
   ],
   "source": [
    "n1=0\n",
    "n2=1\n",
    "n_num=n2\n",
    "count=0\n",
    "for i in range(10):\n",
    "    count+=1\n",
    "    n1=n2, n2=n_num, n_num=n1\n",
    "    n_num=n1+n2\n",
    "print(n1)"
   ]
  },
  {
   "cell_type": "code",
   "execution_count": 12,
   "id": "b168a21f-fa35-4ae5-befa-c4e384e99a96",
   "metadata": {},
   "outputs": [
    {
     "name": "stdout",
     "output_type": "stream",
     "text": [
      "0, 1, 1, 2, 3, 5, 8, 13, 21, 34, "
     ]
    }
   ],
   "source": [
    "def fibonacci(n):\n",
    "    if n <= 1:\n",
    "        return n\n",
    "    else:\n",
    "        return fibonacci(n - 1) + fibonacci(n - 2)\n",
    "for i in range(10):\n",
    "        print(fibonacci(i), end=\", \")"
   ]
  },
  {
   "cell_type": "code",
   "execution_count": null,
   "id": "5db260a2-f894-40f9-90da-136ebf1276a7",
   "metadata": {},
   "outputs": [],
   "source": []
  }
 ],
 "metadata": {
  "kernelspec": {
   "display_name": "Python 3 (ipykernel)",
   "language": "python",
   "name": "python3"
  },
  "language_info": {
   "codemirror_mode": {
    "name": "ipython",
    "version": 3
   },
   "file_extension": ".py",
   "mimetype": "text/x-python",
   "name": "python",
   "nbconvert_exporter": "python",
   "pygments_lexer": "ipython3",
   "version": "3.11.4"
  }
 },
 "nbformat": 4,
 "nbformat_minor": 5
}
